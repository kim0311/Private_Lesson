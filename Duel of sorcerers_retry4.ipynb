{
 "cells": [
  {
   "cell_type": "code",
   "execution_count": 5,
   "metadata": {},
   "outputs": [
    {
     "name": "stdout",
     "output_type": "stream",
     "text": [
      "Saruman wins the round\n",
      "Saruman wins the round\n",
      "Gandlaf wins the round\n",
      "Saruman wins the round\n",
      "Gandlaf wins the round\n",
      "Gandlaf wins the round\n",
      "Saruman wins the round\n",
      "Gandlaf wins the round\n",
      "Gandlaf wins the round\n",
      "Gandlaf wins the round\n",
      "Nobdy wins the battle!\n"
     ]
    }
   ],
   "source": [
    "gandalf = [10, 11, 13, 30, 22, 11, 10, 33, 22, 22]\n",
    "saruman = [23, 66, 12, 43, 12, 10, 44, 23, 12, 17]\n",
    "\n",
    "gandalf_wins = 0\n",
    "saruman_wins = 0 \n",
    "\n",
    "for g,s in zip (gandalf,saruman):\n",
    "    if g>s:\n",
    "        print (\"Gandlaf wins the round\")\n",
    "    elif s>g:\n",
    "        print (\"Saruman wins the round\")\n",
    "    else:\n",
    "        print (\"This round is tied!\")\n",
    "\n",
    "if gandalf_wins > saruman_wins:\n",
    "    gandalf_wins+=1\n",
    "    print(\"Gandalf wins the battle!\")\n",
    "\n",
    "elif gandalf_wins < saruman_wins:\n",
    "    saruman_wins+=1\n",
    "    print(\"Saruman wins the battle!\")\n",
    "\n",
    "else:\n",
    "    gandlaf_wins = saruman_wins\n",
    "    print(\"Nobdy wins the battle!\")\n",
    "    \n",
    "        "
   ]
  },
  {
   "cell_type": "code",
   "execution_count": 6,
   "metadata": {},
   "outputs": [
    {
     "name": "stdout",
     "output_type": "stream",
     "text": [
      "Saruman wins the round\n",
      "Saruman wins the round\n",
      "Gandlaf wins the round\n",
      "Saruman wins the round\n",
      "Gandlaf wins the round\n",
      "Gandlaf wins the round\n",
      "Saruman wins the round\n",
      "Gandlaf wins the round\n",
      "Gandlaf wins the round\n",
      "Gandlaf wins the round\n",
      "Saruman wins the battle!\n"
     ]
    }
   ],
   "source": [
    "gandalf = [10, 11, 13, 30, 22, 11, 10, 33, 22, 22]\n",
    "saruman = [23, 66, 12, 43, 12, 10, 44, 23, 12, 17]\n",
    "\n",
    "gandalf_wins = 0\n",
    "saruman_wins = 0 \n",
    "\n",
    "for g,s in zip (gandalf,saruman):\n",
    "    if g>s:\n",
    "        print (\"Gandlaf wins the round\")\n",
    "    elif s>g:\n",
    "        print (\"Saruman wins the round\")\n",
    "    else:\n",
    "        print (\"This round is tied!\")\n",
    "\n",
    "\n",
    "if gandalf> saruman:\n",
    "    gandalf_wins += 1\n",
    "    print(\"Gandalf wins the battle!\")\n",
    "\n",
    "elif saruman > gandalf:\n",
    "    saruman_wins +=1\n",
    "    print(\"Saruman wins the battle!\")\n",
    "\n",
    "else:\n",
    "    print(\"Draw!\")"
   ]
  }
 ],
 "metadata": {
  "kernelspec": {
   "display_name": "Python 3",
   "language": "python",
   "name": "python3"
  },
  "language_info": {
   "codemirror_mode": {
    "name": "ipython",
    "version": 3
   },
   "file_extension": ".py",
   "mimetype": "text/x-python",
   "name": "python",
   "nbconvert_exporter": "python",
   "pygments_lexer": "ipython3",
   "version": "3.8.2"
  }
 },
 "nbformat": 4,
 "nbformat_minor": 4
}
