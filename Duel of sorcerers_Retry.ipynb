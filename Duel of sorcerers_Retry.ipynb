{
 "cells": [
  {
   "cell_type": "markdown",
   "metadata": {},
   "source": [
    "Duel of Sorcerers\n",
    "You are witnessing an epic battle between two powerful sorcerers: Gandalf and Saruman. Each sorcerer has 10 spells of variable power in their mind and they are going to throw them one after the other. The winner of the duel will be the one who wins more of those clashes between spells. Spells are represented as a list of 10 integers whose value equals the power of the spell.\n",
    "\n",
    "gandalf = [10, 11, 13, 30, 22, 11, 10, 33, 22, 22]\n",
    "saruman = [23, 66, 12, 43, 12, 10, 44, 23, 12, 17]\n",
    "For example:\n",
    "\n",
    "The first clash is won by Saruman: 10 against 23.\n",
    "The second clash is won by Saruman: 11 against 66.\n",
    "...\n",
    "You will create two variables, one for each sorcerer, where the sum of clashes won will be stored. Depending on which variable is greater at the end of the duel, you will show one of the following three results on the screen:\n",
    "\n",
    "Gandalf wins\n",
    "Saruman wins\n",
    "Tie"
   ]
  },
  {
   "cell_type": "markdown",
   "metadata": {},
   "source": [
    "Create two variables called gandalf and saruman and assign them the spell power lists. Create a variable called spells to store the number of spells that the sorcerers cast."
   ]
  },
  {
   "cell_type": "code",
   "execution_count": null,
   "metadata": {},
   "outputs": [],
   "source": [
    "gandalf = [10,11,13,30,22,11,10,33,22,22]\n",
    "saruman = [23,66,12,43,12,10,44,23,12,17]"
   ]
  },
  {
   "cell_type": "markdown",
   "metadata": {},
   "source": [
    "2. Create two variables called gandalf_wins and saruman_wins. Set both of them to 0.\n",
    "You will use these variables to count the number of clashes each sorcerer wins."
   ]
  },
  {
   "cell_type": "code",
   "execution_count": null,
   "metadata": {},
   "outputs": [],
   "source": [
    "gandalf_wins = 0\n",
    "saruman_wins = 0 \n"
   ]
  },
  {
   "cell_type": "markdown",
   "metadata": {},
   "source": [
    "3. Using the lists of spells of both sorcerers, update variables gandalf_wins and saruman_wins to count the number of times each sorcerer wins a clash."
   ]
  },
  {
   "cell_type": "code",
   "execution_count": 11,
   "metadata": {},
   "outputs": [
    {
     "name": "stdout",
     "output_type": "stream",
     "text": [
      "Saruman wins the round!\n",
      "Saruman wins the round!\n",
      "Gandalf wins the round!\n",
      "Saruman wins the round!\n",
      "Gandalf wins the round!\n",
      "Gandalf wins the round!\n",
      "Saruman wins the round!\n",
      "Gandalf wins the round!\n",
      "Gandalf wins the round!\n",
      "Gandalf wins the round!\n",
      "Saruman wins the battle!\n"
     ]
    }
   ],
   "source": [
    "gandalf = [10,11,13,30,22,11,10,33,22,22]\n",
    "saruman = [23,66,12,43,12,10,44,23,12,17]\n",
    "\n",
    "gandalf_wins = 0\n",
    "saruman_wins = 0 \n",
    "\n",
    "for g,s in zip(gandalf,saruman):\n",
    "    if g > s:\n",
    "        print(\"Gandalf wins the round!\")\n",
    "    elif s > g:\n",
    "        print(\"Saruman wins the round!\")\n",
    "    else:\n",
    "        print(\"Draw!\")\n",
    "\n",
    "if gandalf > saruman:\n",
    "    gandalf_wins += 1\n",
    "    print(\"Gandalf wins the battle!\")\n",
    "\n",
    "elif saruman>gandalf:\n",
    "    saruman_wins += 1\n",
    "    print(\"Saruman wins the battle!\")\n",
    "\n",
    "else:\n",
    "    print(\"Draw!\")"
   ]
  }
 ],
 "metadata": {
  "kernelspec": {
   "display_name": "Python 3",
   "language": "python",
   "name": "python3"
  },
  "language_info": {
   "codemirror_mode": {
    "name": "ipython",
    "version": 3
   },
   "file_extension": ".py",
   "mimetype": "text/x-python",
   "name": "python",
   "nbconvert_exporter": "python",
   "pygments_lexer": "ipython3",
   "version": "3.8.2"
  }
 },
 "nbformat": 4,
 "nbformat_minor": 4
}
